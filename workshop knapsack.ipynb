{
 "cells": [
  {
   "cell_type": "markdown",
   "metadata": {},
   "source": [
    "## Knapsack Problem\n",
    "\n",
    "The *knapsack problem*:  given a set of integers $S = \\{s_1, s_2, \\ldots, s_n\\}$ and a target number $T$, find a subset (i.e., knapsack) of $S$ which adds up exactly to $T$.  \n",
    "\n",
    "For example, if $S = \\{1,2,5, 9, 10\\}$, there is a subset that adds up to $T = 22$, but not to $T = 23$.  Complete the following tasks related to this problem."
   ]
  },
  {
   "source": [
    "# 1. \n",
    "\n",
    "Find a subset of $S = \\{1,2,5, 9, 10\\}$ with sum $T = 22$.  Explain the process (algorithm) you used mentally to find the subset.  Then apply the same process in an attempt to find a subset with sum $T = 23$.  \n",
    "\n",
    "How do you know there is no such subset?"
   ],
   "cell_type": "markdown",
   "metadata": {}
  },
  {
   "cell_type": "code",
   "execution_count": 169,
   "metadata": {},
   "outputs": [],
   "source": [
    "\n",
    "\n",
    "#I start with the highest number in the set S, which is 10.\n",
    "#Since 10 is smaller than T=22, I add the next highest number in the set S (9). \n",
    "#Since 19 is still smaller than T, I add the next highest number (5), \n",
    "#but since 24 >T, I skip the (5) and I add (2) and then (1) \n",
    "#and I finely get the subset {1,2,9,10}. \n",
    "#I do the same with T=23, but there are no possible combinations.   "
   ]
  },
  {
   "cell_type": "markdown",
   "metadata": {
    "collapsed": true
   },
   "source": [
    "# 2.\n",
    "\n",
    "Consider the following possible algorithm for the knapsack problem, written in psuedocode: \n",
    "```python\n",
    "knapsack(S[], T):\n",
    "    K = empty\n",
    "    for each i < size(S)\n",
    "        if sum(K) + S[i] <= T, put S[i] into K\n",
    "    if sum(K) = T, return K, else return False.\n",
    "```\n",
    "**a)** Describe what this algorithm does in English.  \n",
    "\n",
    "**b)** Implement this algorithm in Python and run it on the $S$ and $T$ above.\n",
    "\n",
    "\n",
    "**c)** Prove that this algorithm is NOT correct.  That is, find a counterexample: a set $S$ and number $T$ for which there is a solution, but not one that the algorithm finds.\n",
    "\n",
    "**d)** Verify that this particular $S$ and $T$ does not give the right output when entered to your Python program."
   ]
  },
  {
   "cell_type": "code",
   "execution_count": 170,
   "metadata": {},
   "outputs": [
    {
     "output_type": "execute_result",
     "data": {
      "text/plain": [
       "False"
      ]
     },
     "metadata": {},
     "execution_count": 170
    }
   ],
   "source": [
    "#a \n",
    "#first, it sets a K value to empty \n",
    "#then we do the next steps for every element of the set S:\n",
    "\n",
    "#if K+(Element of index i in S) is smaller or equal to T\n",
    "#if the condition above is true, we add the i th element \n",
    "# of S to K \n",
    "\n",
    "#and finely, if the sum of all the added element \n",
    "# in K is equal to the chosen value T we return \n",
    "#K, otherwise we return False \n",
    "\n",
    "\n",
    "\n",
    "#b)\n",
    "def knapsack(S,T):\n",
    "    S=list(S)\n",
    "    \n",
    "    K=[]\n",
    "    for i in range(len(S)):\n",
    "        if (sum(K)+S[i])<=T:\n",
    "            K.append(S[i])\n",
    "    if sum(K)==T:\n",
    "        return set(K)\n",
    "    else:\n",
    "        return False \n",
    "S={1,2,5, 9, 10}\n",
    "T=22\n",
    "knapsack(S,T)\n",
    "\n",
    "# c) and d)\n",
    "# for that set S a subset exists for T=22 subset={1, 2, 10, 9}\n",
    "# but algorithm tells us that there are no subset so this algorithm \n",
    "# is wrong. We get False when we run this algorithm for S={1,2,5, 9, 10}\n",
    "# and T=22\n",
    "\n"
   ]
  },
  {
   "cell_type": "markdown",
   "metadata": {},
   "source": [
    "# 3. \n",
    "\n",
    "Another try: What if you put the elements in the knapsack from largest to smallest?  Check that this too is not a correct algorithm."
   ]
  },
  {
   "cell_type": "code",
   "execution_count": 171,
   "metadata": {},
   "outputs": [
    {
     "output_type": "stream",
     "name": "stdout",
     "text": [
      "T=22  ,  S={1, 2, 5, 9, 10},  subset:{9, 10, 2, 1}\nIt works for this example \n\nT=14  ,  S={1, 2, 5, 9, 10},  subset:False\nIt does not work since the subset {5,9} is a solution\nso this algorithm is also not correct\n"
     ]
    }
   ],
   "source": [
    "def knapsack(S,T):\n",
    "    S=sorted(list(S))\n",
    "    S.reverse()\n",
    "    \n",
    "    K=[]\n",
    "    for i in range(len(S)):\n",
    "        if (sum(K)+S[i])<=T:\n",
    "            K.append(S[i])\n",
    "    if sum(K)==T:\n",
    "        return set(K)\n",
    "    else:\n",
    "        return False \n",
    "\n",
    "\n",
    "\n",
    "S={1,2,5, 9, 10}\n",
    "T=22\n",
    "print(F'T={T}  ,  S={S},  subset:{knapsack(S,T)}')\n",
    "print('It works for this example ')\n",
    "\n",
    "print('')\n",
    "T=14\n",
    "S={1,2,5, 9, 10}\n",
    "print(F'T={T}  ,  S={S},  subset:{knapsack(S,T)}')\n",
    "print('It does not work since the subset {5,9} is a solution')\n",
    "print('so this algorithm is also not correct')\n"
   ]
  },
  {
   "cell_type": "markdown",
   "metadata": {},
   "source": [
    "# 4.\n",
    "\n",
    "Describe a correct algorithm for the knapsack problem (that we haven't seen in class), both in English and in pseudocode.  Then implement the algorithm in Python.  Explain how you know your algorithm is correct (even if it might not be efficient)."
   ]
  },
  {
   "cell_type": "code",
   "execution_count": 185,
   "metadata": {},
   "outputs": [
    {
     "output_type": "stream",
     "name": "stdout",
     "text": [
      "[{2, 10}, {1, 2, 9}]\n[{9, 5}]\nThe subset does not exist\n[]\n[{1, 2, 10, 9}]\n"
     ]
    }
   ],
   "source": [
    "from itertools import combinations\n",
    "\n",
    "#pseudocode\n",
    "#KS_P(S,K)\n",
    "#   L=Empty\n",
    "#   for each i < size(S)\n",
    "#       CombinationList= length i tuples, of no repeated elements\n",
    "#       for each j < size(CombinationList)\n",
    "#           if sum(CombinationList[j])=K,put CombinationList[j] in L\n",
    "#   if size(L)=0,print('The subset does not exist')\n",
    "#\n",
    "\n",
    "#Explain how you know your algorithm is correct \n",
    "\n",
    "# this algorithm works because we're trying every possible\n",
    "# combinasions in the set S \n",
    "\n",
    "\n",
    "def KS_P(S,K):\n",
    "    #empty list L\n",
    "    L=[]\n",
    "    for i in range(len(S)):\n",
    "\n",
    "        # making a list of possible combination \n",
    "        # of length i+1\n",
    "        l=list(combinations(S,i+1))\n",
    "        for j in range(len(l)):\n",
    "\n",
    "            #Summing each combinations in l \n",
    "            if sum(l[j])==K:\n",
    "                L.append(set(l[j]))\n",
    "    if len(L)==0:\n",
    "        print('The subset does not exist')\n",
    "    return L \n",
    "\n",
    "\n",
    "S ={1,2,5, 9, 10}\n",
    "K=12\n",
    "L=KS_P(S,K)\n",
    "print(L)\n",
    "\n",
    "K=14\n",
    "L=KS_P(S,K)\n",
    "print(L)\n",
    "\n",
    "K=23\n",
    "L=KS_P(S,K)\n",
    "print(L)\n",
    "K=22\n",
    "L=KS_P(S,K)\n",
    "print(L)\n",
    "\n",
    "\n"
   ]
  },
  {
   "cell_type": "markdown",
   "metadata": {
    "collapsed": true
   },
   "source": [
    "# 5. Generating correct change\n",
    "\n",
    "Now, we will be making change using the fewest coins. \n",
    "\n",
    "Suppose you are a programmer for a vending machine manufacturer. Your company wants to streamline effort by giving out the fewest possible coins in change for each transaction. Suppose a customer puts in a dollar bill and purchases an item for 37 cents. What is the smallest number of coins you can use to make change? The answer is six coins: two quarters, one dime, and three pennies. \n",
    "\n",
    "How did we arrive at the answer of six coins? We start with the largest coin in our arsenal (a quarter) and use as many of those as possible, then we go to the next lowest coin value and use as many of those as possible. This is the greedy algorithm for change-making.\n",
    "\n",
    "**Question:** Write the greedy algorithm for change making.\n",
    "\n",
    "The input is the amount of change to generate (in pennies) and a list of coin sizes (in pennies)\n",
    "\n",
    "The output is the minimum number of coins to gener\n",
    "\n",
    "```\n",
    "# buys with 1 dollar for 37 pennies\n",
    "# Second argument says we can give quarters, dimes, nickels and pennies\n",
    "make_change(100 - 37, [25, 10, 5, 1])\n",
    "\n",
    "# 2 quarters, one dime, and three pennies\n",
    "output --> 6 # Output would be equivalent to the choices [2, 1, 0, 3]\n",
    "```"
   ]
  },
  {
   "cell_type": "code",
   "execution_count": 173,
   "metadata": {
    "tags": []
   },
   "outputs": [
    {
     "output_type": "stream",
     "name": "stdout",
     "text": [
      "minimum number of coins : 6\n[2 1 0 3]\n"
     ]
    }
   ],
   "source": [
    "import numpy as np \n",
    "\n",
    "def make_change(m,L):\n",
    "    money=m\n",
    "    coins=np.array(L)\n",
    "    choice=np.zeros(len(coins))\n",
    "    while money!=0:\n",
    "        a=1/(money-coins)\n",
    "        i=np.argmax(a)  \n",
    "        choice[i]+=1\n",
    "        money-=coins[i]\n",
    "    return int(np.sum(choice)),choice.astype(int)\n",
    "\n",
    "\n",
    "n_coins,choice=make_change(100-37,[25, 10, 5, 1])\n",
    "print(\"minimum number of coins :\",n_coins)\n",
    "print(choice)\n"
   ]
  },
  {
   "cell_type": "markdown",
   "metadata": {},
   "source": [
    "# 6 Recursive change\n",
    "\n",
    "Write the greedy change making algorithm using recursion"
   ]
  },
  {
   "cell_type": "code",
   "execution_count": 174,
   "metadata": {},
   "outputs": [
    {
     "output_type": "stream",
     "name": "stdout",
     "text": [
      "minimum number of coins : 6\n"
     ]
    }
   ],
   "source": [
    "import numpy as np \n",
    "\n",
    "def make_change2(m,L):\n",
    "    remaining_money=m\n",
    "    coins=np.array(L)\n",
    "    c=0\n",
    "    while remaining_money!=0:\n",
    "        a=1/(remaining_money-coins)\n",
    "        i=np.argmax(a)  \n",
    "        c+=1\n",
    "        remaining_money-=coins[i]\n",
    "        make_change2(remaining_money,L)\n",
    "    return remaining_money,c\n",
    "m=63\n",
    "remaining_money,n_coins=make_change2(m,[25, 10, 5, 1])\n",
    "print(\"minimum number of coins :\",n_coins)\n",
    "\n",
    "\n",
    "\n",
    "\n"
   ]
  },
  {
   "cell_type": "markdown",
   "metadata": {},
   "source": [
    "# 7 Dynamic Programming Change making\n",
    "\n",
    "Write a solution to the change making problem using dynamic programming.\n",
    "\n",
    "**Hint:** Start with making change for one cent and systematically work its way up to the amount of change we require. This guarantees us that at each step of the algorithm we already know the minimum number of coins needed to make change for any smaller amount. Keep a memoized table of results for each step working up to the amount of change you need to generate."
   ]
  },
  {
   "cell_type": "code",
   "execution_count": 175,
   "metadata": {},
   "outputs": [
    {
     "output_type": "stream",
     "name": "stdout",
     "text": [
      "minimum number of coins : 6\n"
     ]
    }
   ],
   "source": [
    "#https://www.youtube.com/watch?v=Y0ZqKpToTic I watched this \n",
    "#video to understand the process\n",
    "\n",
    "\n",
    "\n",
    "import numpy as np \n",
    "\n",
    "def DM_ChangeMaking(M,L):\n",
    "    L=sorted(L)\n",
    "    M=np.zeros([len(L),m+1])\n",
    "\n",
    "    #for the lowest value of coins\n",
    "    M[0]=np.arange(m+1)//L[0]\n",
    "    for i in range(1,len(L)):\n",
    "        for j in range(m+1):\n",
    "            if j<L[i]:\n",
    "                M[i][j]=M[i-1][j]\n",
    "            else:\n",
    "                M[i][j]=min(M[i-1][j],M[i][j-L[i]]+1)\n",
    "    return int(M[-1][-1])\n",
    "\n",
    "    \n",
    "L=[25,10,5,1]\n",
    "m=63\n",
    "print(\"minimum number of coins :\",DM_ChangeMaking(M,L))\n",
    " "
   ]
  }
 ],
 "metadata": {
  "kernelspec": {
   "display_name": "Python 3",
   "language": "python",
   "name": "python3"
  },
  "language_info": {
   "codemirror_mode": {
    "name": "ipython",
    "version": 3
   },
   "file_extension": ".py",
   "mimetype": "text/x-python",
   "name": "python",
   "nbconvert_exporter": "python",
   "pygments_lexer": "ipython3",
   "version": "3.7.4-final"
  }
 },
 "nbformat": 4,
 "nbformat_minor": 1
}